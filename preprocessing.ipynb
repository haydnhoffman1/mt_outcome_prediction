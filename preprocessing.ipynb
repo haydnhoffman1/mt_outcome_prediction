{
 "cells": [
  {
   "cell_type": "markdown",
   "id": "c269e49f",
   "metadata": {},
   "source": [
    "# Functional status (mRS) prediction\n",
    "\n",
    "## 4. Preprocessing\n",
    "- Load raw data\n",
    "- Transform data - favorable functional status (mRS <= 2)\n",
    "- Transform data - functional status (ordinal)\n",
    "- Transform data - mortality"
   ]
  },
  {
   "cell_type": "code",
   "execution_count": 1,
   "id": "7dab58bb",
   "metadata": {},
   "outputs": [],
   "source": [
    "import pandas as pd\n",
    "import numpy as np\n",
    "import matplotlib.pyplot as plt\n",
    "import os\n",
    "\n",
    "from pickle import dump, load\n",
    "\n",
    "from sklearn.compose import make_column_selector as selector\n",
    "from sklearn.compose import ColumnTransformer\n",
    "from sklearn.preprocessing import OrdinalEncoder, OneHotEncoder, StandardScaler, LabelEncoder\n",
    "from sklearn.experimental import enable_iterative_imputer\n",
    "from sklearn.impute import IterativeImputer, KNNImputer, SimpleImputer\n",
    "from sklearn.feature_selection import VarianceThreshold\n",
    "from sklearn.pipeline import Pipeline\n",
    "from sklearn.ensemble import RandomForestClassifier\n",
    "from sklearn.feature_selection import SelectFromModel\n",
    "from sklearn.utils import resample"
   ]
  },
  {
   "cell_type": "code",
   "execution_count": 2,
   "id": "2fd2f280",
   "metadata": {},
   "outputs": [],
   "source": [
    "pd.options.display.max_columns = 999\n",
    "pd.options.display.max_rows = 999"
   ]
  },
  {
   "cell_type": "code",
   "execution_count": 3,
   "id": "89a8b86f",
   "metadata": {},
   "outputs": [],
   "source": [
    "# helper function for preprocessing training features\n",
    "\n",
    "def X_processor(X, include_mt_data = True):\n",
    "    \n",
    "    print('Loading {} samples...'.format(X.shape[0]))\n",
    "    \n",
    "    X['tici_success'] = np.where(X['tici'].str.contains('3|2B', regex = True), 'Y', 'N')\n",
    "    X['coll_full'] = np.where(X['coll_score'] == 3.0, 'Y', 'N')\n",
    "    X['pre_mrs_0'] = np.where(X['pre_mrs'] == 0.0, 'Y', 'N')\n",
    "    \n",
    "    # remove variables that have too many missing values/don't provide much information or have been transformed\n",
    "    vars_to_drop = ['tici', 'coll_score', 'pre_mrs', 'approach', 'gen_anes_vol', 'tmax_6', 'tmax_10', 'cbf_30',\n",
    "                    'mismatch_vol', 'hypoperf_index', 'cbv_index', 'stent_ret_length', 'bgc', \n",
    "                    'rescue_ia', 'trevo', 'solitaire', 'embotrap', 'capture', 'gen_anes_vol', 'map', 'a1c']\n",
    "    \n",
    "    if include_mt_data:\n",
    "        X = X.drop(vars_to_drop, axis = 1)\n",
    "        \n",
    "    else:\n",
    "        # if not including data from mechanical thrombectomy, remove the procedure-related variables\n",
    "        procedural_vars = ['heparin', 'ptas', 'stent_ret', 'aspiration', 'num_pass', 'first_pass_reperf', \n",
    "                           'procedure_ap', 'gen_anes', 'fluoro_time', 'hypoten_mt', \n",
    "                           'time_to_puncture', 'time_to_first_pass', 'time_to_reperf', 'tici_success']\n",
    "        \n",
    "        vars_to_drop.extend(procedural_vars)\n",
    "        X = X.drop(vars_to_drop, axis = 1)\n",
    "    \n",
    "    return X"
   ]
  },
  {
   "cell_type": "code",
   "execution_count": 4,
   "id": "d452140b",
   "metadata": {},
   "outputs": [],
   "source": [
    "def quality_check(X_train, X_test):\n",
    "    \n",
    "#     if X_train.isnull().any().sum() == 0 & X_test.isnull().any().sum() == 0:\n",
    "#         print('No missing data')\n",
    "#     else:\n",
    "#         raise ValueError('There is missing data')\n",
    "        \n",
    "    if all(X_train.columns == X_test.columns):\n",
    "        print('Features in training and testing sets match')\n",
    "    else:\n",
    "        raise ValueError('Features dont match')"
   ]
  },
  {
   "cell_type": "code",
   "execution_count": 5,
   "id": "0356e272",
   "metadata": {},
   "outputs": [],
   "source": [
    "# helper function to load data\n",
    "\n",
    "def load_data(outcome_dir):\n",
    "    \n",
    "    files = sorted(os.listdir(os.path.join('splits', outcome_dir)))\n",
    "    X_test = pd.read_pickle(os.path.join('splits', outcome_dir, files[0]))\n",
    "    X_train = pd.read_pickle(os.path.join('splits', outcome_dir, files[1]))\n",
    "    y_test = pd.read_pickle(os.path.join('splits', outcome_dir, files[2]))\n",
    "    y_train = pd.read_pickle(os.path.join('splits', outcome_dir, files[3]))\n",
    "    \n",
    "    return X_train, X_test, y_train, y_test"
   ]
  },
  {
   "cell_type": "code",
   "execution_count": 6,
   "id": "a435e11d",
   "metadata": {},
   "outputs": [],
   "source": [
    "# helper function to transform and save data\n",
    "\n",
    "def transformer(X_train, X_test, outcome_dir, X_processor, quality_check, include_mt_data):\n",
    "    \n",
    "    if include_mt_data:\n",
    "        print('Saving transformed files with variables from mechanical thrombectomy')\n",
    "        \n",
    "        X_train_trans_mt = X_processor(X = X_train, include_mt_data = True)\n",
    "        X_test_trans_mt = X_processor(X = X_test, include_mt_data = True)\n",
    "    \n",
    "        quality_check(X_train = X_train_trans_mt, X_test = X_test_trans_mt)\n",
    "    \n",
    "        X_train_trans_mt.to_pickle(os.path.join(outcome_dir, 'mt_data', 'X_train_trans_mt.pkl'))\n",
    "        X_test_trans_mt.to_pickle(os.path.join(outcome_dir, 'mt_data', 'X_test_trans_mt.pkl'))\n",
    "        \n",
    "        return X_train_trans_mt, X_test_trans_mt\n",
    "        \n",
    "    else:\n",
    "        print('Saving transformed files without variables from mechanical thrombectomy')\n",
    "        \n",
    "        X_train_trans_nomt = X_processor(X = X_train, include_mt_data = False)\n",
    "        X_test_trans_nomt = X_processor(X = X_test, include_mt_data = False)\n",
    "    \n",
    "        quality_check(X_train = X_train_trans_nomt, X_test = X_test_trans_nomt)\n",
    "    \n",
    "        X_train_trans_nomt.to_pickle(os.path.join(outcome_dir, 'no_mt_data', 'X_train_trans_nomt.pkl'))\n",
    "        X_test_trans_nomt.to_pickle(os.path.join(outcome_dir, 'no_mt_data', 'X_test_trans_nomt.pkl'))\n",
    "        \n",
    "        return X_train_trans_nomt, X_test_trans_nomt"
   ]
  },
  {
   "cell_type": "code",
   "execution_count": 7,
   "id": "b87bc5d9",
   "metadata": {},
   "outputs": [],
   "source": [
    "# helper function to transform and save labels\n",
    "\n",
    "def label_transformer(y_train, y_test, outcome_dir):\n",
    "    \n",
    "    le = LabelEncoder()\n",
    "    le.fit(y_train)\n",
    "    y_train_trans = le.transform(y_train)\n",
    "    y_test_trans = le.transform(y_test)\n",
    "    \n",
    "    np.save(os.path.join(outcome_dir, 'y_train_trans.npy'), y_train_trans)\n",
    "    np.save(os.path.join(outcome_dir, 'y_test_trans.npy'), y_test_trans)\n",
    "    \n",
    "    return y_train_trans, y_test_trans"
   ]
  },
  {
   "cell_type": "markdown",
   "id": "86c83810",
   "metadata": {},
   "source": [
    "### Favorable functional status\n",
    "\n",
    "Dichotomized as favorable (mRS <=2) or unfavorable (mRS >=3)"
   ]
  },
  {
   "cell_type": "code",
   "execution_count": 67,
   "id": "d902d00e",
   "metadata": {},
   "outputs": [],
   "source": [
    "# load raw data\n",
    "\n",
    "X_train, X_test, y_train, y_test = load_data(outcome_dir = 'fav_functional_status')"
   ]
  },
  {
   "cell_type": "code",
   "execution_count": 68,
   "id": "29350400",
   "metadata": {},
   "outputs": [
    {
     "name": "stdout",
     "output_type": "stream",
     "text": [
      "Saving transformed files with variables from mechanical thrombectomy\n",
      "Loading 285 samples...\n",
      "Loading 72 samples...\n",
      "Features in training and testing sets match\n"
     ]
    }
   ],
   "source": [
    "X_train_trans_mt, X_test_trans_mt = transformer(X_train = X_train, \n",
    "                                                X_test = X_test,\n",
    "                                                outcome_dir = 'transformed_datasets/fav_functional_status',\n",
    "                                                X_processor = X_processor, \n",
    "                                                quality_check = quality_check, \n",
    "                                                include_mt_data = True)"
   ]
  },
  {
   "cell_type": "code",
   "execution_count": 69,
   "id": "ae404ce2",
   "metadata": {},
   "outputs": [
    {
     "name": "stdout",
     "output_type": "stream",
     "text": [
      "Saving transformed files without variables from mechanical thrombectomy\n",
      "Loading 285 samples...\n",
      "Loading 72 samples...\n",
      "Features in training and testing sets match\n"
     ]
    }
   ],
   "source": [
    "X_train_trans_nomt, X_test_trans_nomt = transformer(X_train = X_train, \n",
    "                                                    X_test = X_test,\n",
    "                                                    outcome_dir = 'transformed_datasets/fav_functional_status',\n",
    "                                                    X_processor = X_processor, \n",
    "                                                    quality_check = quality_check, \n",
    "                                                    include_mt_data = False)"
   ]
  },
  {
   "cell_type": "code",
   "execution_count": 70,
   "id": "f99804d2",
   "metadata": {},
   "outputs": [],
   "source": [
    "y_train_trans, y_test_trans = label_transformer(y_train = y_train, \n",
    "                                                y_test = y_test, \n",
    "                                                outcome_dir = 'transformed_datasets/fav_functional_status')"
   ]
  },
  {
   "cell_type": "markdown",
   "id": "97f8d868",
   "metadata": {},
   "source": [
    "### Functional status\n",
    "\n",
    "Ordinal mRS (0 - 6)"
   ]
  },
  {
   "cell_type": "code",
   "execution_count": 73,
   "id": "88e3babc",
   "metadata": {},
   "outputs": [],
   "source": [
    "# load raw data\n",
    "\n",
    "X_train, X_test, y_train, y_test = load_data(outcome_dir = 'functional_status')"
   ]
  },
  {
   "cell_type": "code",
   "execution_count": 74,
   "id": "c846cbcd",
   "metadata": {},
   "outputs": [
    {
     "name": "stdout",
     "output_type": "stream",
     "text": [
      "Saving transformed files with variables from mechanical thrombectomy\n",
      "Loading 285 samples...\n",
      "Loading 72 samples...\n",
      "Features in training and testing sets match\n"
     ]
    }
   ],
   "source": [
    "X_train_trans_mt, X_test_trans_mt = transformer(X_train = X_train, \n",
    "                                                X_test = X_test,\n",
    "                                                outcome_dir = 'transformed_datasets/functional_status',\n",
    "                                                X_processor = X_processor, \n",
    "                                                quality_check = quality_check, \n",
    "                                                include_mt_data = True)"
   ]
  },
  {
   "cell_type": "code",
   "execution_count": 75,
   "id": "8b08220d",
   "metadata": {},
   "outputs": [
    {
     "name": "stdout",
     "output_type": "stream",
     "text": [
      "Saving transformed files without variables from mechanical thrombectomy\n",
      "Loading 285 samples...\n",
      "Loading 72 samples...\n",
      "Features in training and testing sets match\n"
     ]
    }
   ],
   "source": [
    "X_train_trans_nomt, X_test_trans_nomt = transformer(X_train = X_train, \n",
    "                                                    X_test = X_test,\n",
    "                                                    outcome_dir = 'transformed_datasets/functional_status',\n",
    "                                                    X_processor = X_processor, \n",
    "                                                    quality_check = quality_check, \n",
    "                                                    include_mt_data = False)"
   ]
  },
  {
   "cell_type": "code",
   "execution_count": 76,
   "id": "21940de7",
   "metadata": {},
   "outputs": [],
   "source": [
    "y_train_trans, y_test_trans = label_transformer(y_train = y_train, \n",
    "                                                y_test = y_test, \n",
    "                                                outcome_dir = 'transformed_datasets/functional_status')"
   ]
  },
  {
   "cell_type": "markdown",
   "id": "6bef0556",
   "metadata": {},
   "source": [
    "### Mortality\n",
    "mRS = 6"
   ]
  },
  {
   "cell_type": "code",
   "execution_count": 77,
   "id": "4d24f425",
   "metadata": {},
   "outputs": [],
   "source": [
    "# load raw data\n",
    "\n",
    "X_train, X_test, y_train, y_test = load_data(outcome_dir = 'mortality')"
   ]
  },
  {
   "cell_type": "code",
   "execution_count": 78,
   "id": "20d543dc",
   "metadata": {},
   "outputs": [
    {
     "name": "stdout",
     "output_type": "stream",
     "text": [
      "Saving transformed files with variables from mechanical thrombectomy\n",
      "Loading 285 samples...\n",
      "Loading 72 samples...\n",
      "Features in training and testing sets match\n"
     ]
    }
   ],
   "source": [
    "X_train_trans_mt, X_test_trans_mt = transformer(X_train = X_train, \n",
    "                                                X_test = X_test,\n",
    "                                                outcome_dir = 'transformed_datasets/mortality',\n",
    "                                                X_processor = X_processor, \n",
    "                                                quality_check = quality_check, \n",
    "                                                include_mt_data = True)"
   ]
  },
  {
   "cell_type": "code",
   "execution_count": 79,
   "id": "34b2e01a",
   "metadata": {},
   "outputs": [
    {
     "name": "stdout",
     "output_type": "stream",
     "text": [
      "Saving transformed files without variables from mechanical thrombectomy\n",
      "Loading 285 samples...\n",
      "Loading 72 samples...\n",
      "Features in training and testing sets match\n"
     ]
    }
   ],
   "source": [
    "X_train_trans_nomt, X_test_trans_nomt = transformer(X_train = X_train, \n",
    "                                                    X_test = X_test,\n",
    "                                                    outcome_dir = 'transformed_datasets/mortality',\n",
    "                                                    X_processor = X_processor, \n",
    "                                                    quality_check = quality_check, \n",
    "                                                    include_mt_data = False)"
   ]
  },
  {
   "cell_type": "code",
   "execution_count": 80,
   "id": "d4c0d2a1",
   "metadata": {},
   "outputs": [],
   "source": [
    "y_train_trans, y_test_trans = label_transformer(y_train = y_train, \n",
    "                                                y_test = y_test, \n",
    "                                                outcome_dir = 'transformed_datasets/mortality')"
   ]
  },
  {
   "cell_type": "markdown",
   "id": "dc6aea96",
   "metadata": {},
   "source": [
    "### Death or severe disability\n",
    "mRS = 4-6"
   ]
  },
  {
   "cell_type": "code",
   "execution_count": 8,
   "id": "6574f578",
   "metadata": {},
   "outputs": [],
   "source": [
    "# load raw data\n",
    "\n",
    "X_train, X_test, y_train, y_test = load_data(outcome_dir = 'dsd')"
   ]
  },
  {
   "cell_type": "code",
   "execution_count": 9,
   "id": "1ef8bbe6",
   "metadata": {},
   "outputs": [
    {
     "name": "stdout",
     "output_type": "stream",
     "text": [
      "Saving transformed files with variables from mechanical thrombectomy\n",
      "Loading 285 samples...\n",
      "Loading 72 samples...\n",
      "Features in training and testing sets match\n"
     ]
    }
   ],
   "source": [
    "X_train_trans_mt, X_test_trans_mt = transformer(X_train = X_train, \n",
    "                                                X_test = X_test,\n",
    "                                                outcome_dir = 'transformed_datasets/dsd',\n",
    "                                                X_processor = X_processor, \n",
    "                                                quality_check = quality_check, \n",
    "                                                include_mt_data = True)"
   ]
  },
  {
   "cell_type": "code",
   "execution_count": 10,
   "id": "4047ddc4",
   "metadata": {},
   "outputs": [
    {
     "name": "stdout",
     "output_type": "stream",
     "text": [
      "Saving transformed files without variables from mechanical thrombectomy\n",
      "Loading 285 samples...\n",
      "Loading 72 samples...\n",
      "Features in training and testing sets match\n"
     ]
    }
   ],
   "source": [
    "X_train_trans_nomt, X_test_trans_nomt = transformer(X_train = X_train, \n",
    "                                                    X_test = X_test,\n",
    "                                                    outcome_dir = 'transformed_datasets/dsd',\n",
    "                                                    X_processor = X_processor, \n",
    "                                                    quality_check = quality_check, \n",
    "                                                    include_mt_data = False)"
   ]
  },
  {
   "cell_type": "code",
   "execution_count": 11,
   "id": "35a4c985",
   "metadata": {},
   "outputs": [],
   "source": [
    "y_train_trans, y_test_trans = label_transformer(y_train = y_train, \n",
    "                                                y_test = y_test, \n",
    "                                                outcome_dir = 'transformed_datasets/dsd')"
   ]
  }
 ],
 "metadata": {
  "kernelspec": {
   "display_name": "Python 3",
   "language": "python",
   "name": "python3"
  },
  "language_info": {
   "codemirror_mode": {
    "name": "ipython",
    "version": 3
   },
   "file_extension": ".py",
   "mimetype": "text/x-python",
   "name": "python",
   "nbconvert_exporter": "python",
   "pygments_lexer": "ipython3",
   "version": "3.9.1"
  }
 },
 "nbformat": 4,
 "nbformat_minor": 5
}
